{
 "cells": [
  {
   "cell_type": "code",
   "execution_count": 1,
   "id": "6f0ced30-7d81-4927-98d1-fac4fb3708a2",
   "metadata": {},
   "outputs": [],
   "source": [
    "%config Completer.use_jedi = False"
   ]
  },
  {
   "cell_type": "code",
   "execution_count": 2,
   "id": "3bf910ff-9a7b-44e4-a314-4a1a148e44c3",
   "metadata": {},
   "outputs": [],
   "source": [
    "from selenium import webdriver\n",
    "from selenium.webdriver.common.action_chains import ActionChains"
   ]
  },
  {
   "cell_type": "code",
   "execution_count": 3,
   "id": "c5b7349e-4bcb-4b42-a2dc-f58e7f182ba6",
   "metadata": {},
   "outputs": [],
   "source": [
    "PATH=\"C:\\Program Files (x86)\\chromedriver.exe\"\n",
    "driver=webdriver.Chrome(PATH)"
   ]
  },
  {
   "cell_type": "code",
   "execution_count": 4,
   "id": "7b8ad57f-5608-4bfe-8357-6f961ffb032e",
   "metadata": {},
   "outputs": [],
   "source": [
    "driver.get(\"https://www.chess.com/play/computer\")"
   ]
  },
  {
   "cell_type": "code",
   "execution_count": 6,
   "id": "3679b148-4eaa-45ab-851e-17642e7d6a95",
   "metadata": {},
   "outputs": [],
   "source": [
    "element=driver.find_element_by_class_name(\"piece.wp.square-42\")"
   ]
  },
  {
   "cell_type": "code",
   "execution_count": 7,
   "id": "f14425d0-a33e-4fe5-b2ea-b13b5fba72c6",
   "metadata": {},
   "outputs": [
    {
     "data": {
      "text/plain": [
       "{'x': 578, 'y': 708}"
      ]
     },
     "execution_count": 7,
     "metadata": {},
     "output_type": "execute_result"
    }
   ],
   "source": [
    "element.location"
   ]
  },
  {
   "cell_type": "code",
   "execution_count": 8,
   "id": "cda2c508-0af2-41a5-8222-89a9381dc4f3",
   "metadata": {},
   "outputs": [],
   "source": [
    "action = ActionChains(driver)"
   ]
  },
  {
   "cell_type": "code",
   "execution_count": 9,
   "id": "b89deeb0-0264-4024-a249-ea3b209b9edb",
   "metadata": {},
   "outputs": [
    {
     "data": {
      "text/plain": [
       "<selenium.webdriver.common.action_chains.ActionChains at 0x21e80ec2760>"
      ]
     },
     "execution_count": 9,
     "metadata": {},
     "output_type": "execute_result"
    }
   ],
   "source": [
    "action.drag_and_drop_by_offset(element, 0, -100)"
   ]
  },
  {
   "cell_type": "code",
   "execution_count": 10,
   "id": "fd129813-4ced-4125-9d02-d1ffc7d1e002",
   "metadata": {},
   "outputs": [],
   "source": [
    "action.perform()"
   ]
  },
  {
   "cell_type": "code",
   "execution_count": 15,
   "id": "63fbc25e-94a7-474e-ab91-3217d3a97c71",
   "metadata": {},
   "outputs": [],
   "source": [
    "parentElement=driver.find_element_by_class_name(\"layout-board.board\")"
   ]
  },
  {
   "cell_type": "code",
   "execution_count": 16,
   "id": "3cf18c25-25c8-40e9-8b26-ac6bdaf55491",
   "metadata": {},
   "outputs": [],
   "source": [
    "all_children_by_xpath = parentElement.find_elements_by_xpath(\".//*\")\n"
   ]
  },
  {
   "cell_type": "code",
   "execution_count": 53,
   "id": "4f9bcfa1-06fd-499e-8f8a-dd6d2fa1bd09",
   "metadata": {},
   "outputs": [
    {
     "data": {
      "text/plain": [
       "'<div class=\"piece bn square-78\" style=\"\"></div>'"
      ]
     },
     "execution_count": 53,
     "metadata": {},
     "output_type": "execute_result"
    }
   ],
   "source": [
    "\n",
    "all_children_by_xpath[21].get_attribute('outerHTML')"
   ]
  }
 ],
 "metadata": {
  "kernelspec": {
   "display_name": "Python 3",
   "language": "python",
   "name": "python3"
  },
  "language_info": {
   "codemirror_mode": {
    "name": "ipython",
    "version": 3
   },
   "file_extension": ".py",
   "mimetype": "text/x-python",
   "name": "python",
   "nbconvert_exporter": "python",
   "pygments_lexer": "ipython3",
   "version": "3.8.5"
  }
 },
 "nbformat": 4,
 "nbformat_minor": 5
}
